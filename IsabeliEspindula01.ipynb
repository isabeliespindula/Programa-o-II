{
  "nbformat": 4,
  "nbformat_minor": 0,
  "metadata": {
    "colab": {
      "name": "IsabeliEspindula01.ipynb",
      "provenance": []
    },
    "kernelspec": {
      "name": "python3",
      "display_name": "Python 3"
    },
    "language_info": {
      "name": "python"
    }
  },
  "cells": [
    {
      "cell_type": "markdown",
      "metadata": {
        "id": "r_EP6G5O2Ghu"
      },
      "source": [
        "**1. Faça um programa que peça dois números inteiros e imprima a soma desses dois números**"
      ]
    },
    {
      "cell_type": "code",
      "metadata": {
        "id": "B1qeOIgb25vu"
      },
      "source": [
        "a = int (input(\"Digite um número inteiro: \"))\n",
        "b = int (input(\"Digite mais um número inteiro: \"))\n",
        "soma = a + b \n",
        "print(\"Soma total = \", soma)\n"
      ],
      "execution_count": null,
      "outputs": []
    },
    {
      "cell_type": "markdown",
      "metadata": {
        "id": "wdlQGVpg6CER"
      },
      "source": [
        "**2. Escreva um programa que leia um valor em metros e o exiba convertido em milímetros**"
      ]
    },
    {
      "cell_type": "code",
      "metadata": {
        "id": "b4DoT6-N6US4"
      },
      "source": [
        "metros = float(input(\"Valor em metro: \"))\n",
        "milimetros = metros * 10000 \n",
        "print(\"Valor convetido para milímetros: %.2f\"% milimetros, \"mm\")\n"
      ],
      "execution_count": null,
      "outputs": []
    },
    {
      "cell_type": "markdown",
      "metadata": {
        "id": "6nJ2UXAp8PY-"
      },
      "source": [
        "**3. Faça um programa que calcule o aumento de um salário. Ele deve solicitar o valor do salário e a porcentagem do aumento. Exiba o valor do aumento e do novo salário**"
      ]
    },
    {
      "cell_type": "code",
      "metadata": {
        "id": "REcmVT1y9AqX"
      },
      "source": [
        "salario = float(input(\"Valor do salário: \"))\n",
        "porcentagem = float(input(\"Porcentagem do aumento:\"))\n",
        "aumento = salario * (porcentagem / 100)\n",
        "novo_salario = salario + aumento\n",
        "print(\"Valor do aumento: R$%.2f\" % aumento )\n",
        "print(\"Seu novo salário é: R$%.2f\" % novo_salario )\n",
        "\n"
      ],
      "execution_count": null,
      "outputs": []
    },
    {
      "cell_type": "markdown",
      "metadata": {
        "id": "cbCOWvgtEmao"
      },
      "source": [
        "**4. Solicite o preço de uma mercadoria e o percentual de desconto. Exiba o valor do desconto e o preço a pagar**"
      ]
    },
    {
      "cell_type": "code",
      "metadata": {
        "id": "rqeM87YeEsNQ"
      },
      "source": [
        "preco_da_mercadoria = float(input(\"Preço da mercadoria: \"))\n",
        "percentual_de_desconto = float(input(\"Percentual de desconto: \"))\n",
        "desconto = preco_da_mercadoria * (percentual_de_desconto / 100)\n",
        "preco_a_pagar = preco_da_mercadoria - desconto\n",
        "print(\"Valor do desconto: R$%.2f\"% desconto )\n",
        "print(\"Seu novo preço é: R$%.2f\"% preco_a_pagar )\n"
      ],
      "execution_count": null,
      "outputs": []
    },
    {
      "cell_type": "markdown",
      "metadata": {
        "id": "z9BKUidJGMS5"
      },
      "source": [
        "**5. Converta uma temperatura digitada em Celsius para Fahrenheit. F = 9*C/5 + 32**"
      ]
    },
    {
      "cell_type": "code",
      "metadata": {
        "id": "Wy8NjOUSG8Tp"
      },
      "source": [
        "celsius = float(input(\"Temperatura em Celsius: \"))\n",
        "F = 9* celsius /5 + 32\n",
        "print(\"Temperatura em Fahrenheit: \",F, \"F\")"
      ],
      "execution_count": null,
      "outputs": []
    },
    {
      "cell_type": "markdown",
      "metadata": {
        "id": "Dx0wkD4_IO0S"
      },
      "source": [
        "**6. Faça agora o contrário, de Fahrenheit para Celsius**"
      ]
    },
    {
      "cell_type": "code",
      "metadata": {
        "id": "Nv_Bd48QJalb"
      },
      "source": [
        "fahrenheit = float(input(\"Temperatura em Farenheit: \"))\n",
        "celsius = (fahrenheit - 32) * 5/9\n",
        "print(\"Temperatura em Celsius: \", celsius ,\"C\")"
      ],
      "execution_count": null,
      "outputs": []
    }
  ]
}