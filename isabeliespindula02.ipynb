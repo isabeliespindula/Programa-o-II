{
  "nbformat": 4,
  "nbformat_minor": 0,
  "metadata": {
    "colab": {
      "name": "isabeliespindula02.ipynb",
      "provenance": [],
      "collapsed_sections": []
    },
    "kernelspec": {
      "name": "python3",
      "display_name": "Python 3"
    },
    "language_info": {
      "name": "python"
    }
  },
  "cells": [
    {
      "cell_type": "markdown",
      "metadata": {
        "id": "wtmvuE2JwzF0"
      },
      "source": [
        "**1. Faça um Programa que peça os três lados de um triângulo. O programa deverá informar se os valores podem ser\n",
        "um triângulo. Indique, caso os lados formem um triângulo, se o mesmo é: equilátero, isósceles ou escaleno.**"
      ]
    },
    {
      "cell_type": "code",
      "metadata": {
        "id": "H43871Phw4EH"
      },
      "source": [
        "lado_1 = float (input(\"Digite o primeiro lado: \"))\n",
        "lado_2 = float (input(\"Digite o segundo lado: \"))\n",
        "lado_3 = float (input(\"Digite o terceiro lado: \"))\n",
        "if lado_1 == lado_2 == lado_3:\n",
        "  print(\"Esse é um triângulo equilátero!\")\n",
        "elif (lado_1 != lado_2 != lado_3) :\n",
        "  print(\"Esse é um triângulo escaleno!\")\n",
        "else:\n",
        "  print(\"Esse é um triângulo isóceles!\")\n"
      ],
      "execution_count": null,
      "outputs": []
    },
    {
      "cell_type": "markdown",
      "metadata": {
        "id": "TL0R31a78CK-"
      },
      "source": [
        "**2. Faça um Programa que leia três números e mostre o maior deles.**"
      ]
    },
    {
      "cell_type": "code",
      "metadata": {
        "id": "dyU5XeNO8Fe2"
      },
      "source": [
        "n1 = float (input(\"Digite o primeiro número: \"))\n",
        "n2 = float (input(\"Digite o segundo número: \"))\n",
        "n3 = float (input(\"Digite o terceiro número: \"))\n",
        "if n1 > n2 and n1 > n3:\n",
        "  print(\"Esse é o maior número:\", n1 )\n",
        "elif n2 > n1 and n2 > n3:\n",
        "  print(\"Esse é o maior número:\", n2 )\n",
        "else:\n",
        "  print(\"Esse é o maior número:\", n3 )\n",
        "\n"
      ],
      "execution_count": null,
      "outputs": []
    },
    {
      "cell_type": "markdown",
      "metadata": {
        "id": "U6xaL-V2_-VX"
      },
      "source": [
        "**3. Faça um Programa que pergunte quanto você ganha por hora e o número de horas trabalhadas no mês. Calcule\n",
        "e mostre o total do seu salário no referido mês, sabendo-se que são descontados 11% para o Imposto de Renda,\n",
        "8% para o INSS e 5% para o sindicato, faça um programa que nos dê o salário bruto, quanto pagou ao INSS,\n",
        "quanto pagou ao sindicato e o salário líquido. Observe que Salário Bruto - Descontos = Salário Líquido. Calcule os\n",
        "descontos e o salário líquido, conforme a tabela abaixo:**\n",
        "\n",
        "<br>**a. + Salário Bruto : R$**</br>\n",
        "\n",
        "<br>**b. - IR (11%) : R$**</br>\n",
        "\n",
        "<br>**c. - INSS (8%) : R$**</br>\n",
        "\n",
        "<br>**d. - Sindicato ( 5%) : R$**</br>\n",
        "\n",
        "<br>**e. = Salário Liquido : R$**</br>"
      ]
    },
    {
      "cell_type": "code",
      "metadata": {
        "id": "1I2wFPe-AHWD"
      },
      "source": [
        "valor_hora = float(input(\"Quanto você ganha por hora?\"))\n",
        "horas_mensais = float(input(\"Qual o número de horas mensais?\"))\n",
        "salario_bruto = valor_hora * horas_mensais\n",
        "print(\"Salario bruto é:R$ \", salario_bruto)\n",
        "INSS = salario_bruto * 8 / 100\n",
        "print(\"INSS:R$ \", INSS)\n",
        "IR = salario_bruto * 11 / 100\n",
        "print(\"Imposto de renda é:R$ \", IR)\n",
        "sindicato = salario_bruto * 5 / 100\n",
        "print(\"Sindicato é:R$ \", sindicato)\n",
        "novo_salario = salario_bruto - INSS - IR - sindicato\n",
        "print(\"Seu novo salário é:R$ \", novo_salario) "
      ],
      "execution_count": null,
      "outputs": []
    },
    {
      "cell_type": "markdown",
      "metadata": {
        "id": "jYwbil-fBWTU"
      },
      "source": [
        "**4. Ano bissexto**"
      ]
    },
    {
      "cell_type": "code",
      "metadata": {
        "id": "oh6XyhcxBd48"
      },
      "source": [
        "ano = int(input(\"Digite o ano: \"))\n",
        "if ano % 4 == 0 and ano % 100 != 0 or ano % 400 == 0:\n",
        "  print(\"Esse é um ano bissexto\")\n",
        "else:\n",
        "  print(\"Esse não é um ano bissexto\")\n"
      ],
      "execution_count": null,
      "outputs": []
    },
    {
      "cell_type": "markdown",
      "metadata": {
        "id": "NpFlzmwACt1M"
      },
      "source": [
        "**5. Faça um programa para uma loja de tintas. O programa deverá pedir o tamanho em metros quadrados da área a\n",
        "ser pintada. Considere que a cobertura da tinta é de 1 litro para cada 3 metros quadrados e que a tinta é vendida\n",
        "em latas de 18 litros, que custam R$ 80,00. Informe ao usuário a quantidades de latas de tinta a serem\n",
        "compradas e o preço total. Obs. : somente são vendidos um número inteiro de latas.**"
      ]
    },
    {
      "cell_type": "code",
      "metadata": {
        "id": "Gq-Nsef0Cyuk"
      },
      "source": [
        "tamanho = float(input(\"Digite o tamanho em metros quadrados da área a ser pintada: \"))\n",
        "qtd_litros = tamanho / 3 \n",
        "qtd_lata = qtd_litros / 18\n",
        "print(\"A quantidade de latas a serem compradas são: \",round(qtd_lata + 0.5))\n",
        "valor_total = round(qtd_lata + 0.5) * 80\n",
        "print(\"e o preço total é R$: \", round(valor_total, 2))\n"
      ],
      "execution_count": null,
      "outputs": []
    }
  ]
}